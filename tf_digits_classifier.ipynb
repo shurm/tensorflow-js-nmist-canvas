{
 "cells": [
  {
   "cell_type": "code",
   "execution_count": 7,
   "metadata": {},
   "outputs": [],
   "source": [
    "import tensorflow as tf\n",
    "mnist = tf.keras.datasets.mnist\n",
    "\n",
    "(x_train, y_train), (x_test, y_test) = mnist.load_data()\n",
    "x_train, x_test = x_train / 255.0, x_test / 255.0\n",
    "\n",
    "model = tf.keras.models.Sequential()   # for example\n",
    "model.add(tf.keras.layers.Flatten(input_shape=x_train[0].shape))\n",
    "model.add(tf.keras.layers.Dense(512, activation=tf.nn.relu))\n",
    "model.add(tf.keras.layers.Dropout(0.2))\n",
    "model.add(tf.keras.layers.Dense(10, activation=tf.nn.softmax))\n",
    "\n",
    "model.compile(optimizer='adam',\n",
    "              loss='sparse_categorical_crossentropy',\n",
    "              metrics=['accuracy'])\n",
    "   "
   ]
  },
  {
   "cell_type": "code",
   "execution_count": 8,
   "metadata": {},
   "outputs": [
    {
     "name": "stdout",
     "output_type": "stream",
     "text": [
      "Epoch 1/5\n",
      "60000/60000 [==============================] - 29s 484us/step - loss: 0.2181 - acc: 0.9350\n",
      "Epoch 2/5\n",
      "60000/60000 [==============================] - 30s 495us/step - loss: 0.0968 - acc: 0.9701\n",
      "Epoch 3/5\n",
      "60000/60000 [==============================] - 30s 505us/step - loss: 0.0670 - acc: 0.97871s - loss: 0.0664 - acc: 0.978 - ETA: 1s - lo\n",
      "Epoch 4/5\n",
      "60000/60000 [==============================] - 32s 532us/step - loss: 0.0522 - acc: 0.9835\n",
      "Epoch 5/5\n",
      "60000/60000 [==============================] - 27s 458us/step - loss: 0.0443 - acc: 0.98520s - loss: 0.0444 - acc\n",
      "10000/10000 [==============================] - 1s 119us/step\n"
     ]
    },
    {
     "data": {
      "text/plain": [
       "[0.06097068080932368, 0.9824]"
      ]
     },
     "execution_count": 8,
     "metadata": {},
     "output_type": "execute_result"
    }
   ],
   "source": [
    "import tensorflowjs as tfjs\n",
    "\n",
    "model.fit(x_train, y_train, epochs=5)\n",
    "\n",
    "model.evaluate(x_test, y_test)\n",
    "\n"
   ]
  },
  {
   "cell_type": "code",
   "execution_count": 12,
   "metadata": {},
   "outputs": [],
   "source": [
    "#model.save(\"my_model.h5\")\n",
    "#model.save_weights(\"my_weights.h5\")\n",
    "tfjs.converters.save_keras_model(model, \"tfjs_files\")"
   ]
  },
  {
   "cell_type": "code",
   "execution_count": 11,
   "metadata": {},
   "outputs": [
    {
     "data": {
      "text/plain": [
       "(28, 28)"
      ]
     },
     "execution_count": 11,
     "metadata": {},
     "output_type": "execute_result"
    }
   ],
   "source": [
    "x_train[0].shape"
   ]
  },
  {
   "cell_type": "code",
   "execution_count": null,
   "metadata": {},
   "outputs": [],
   "source": []
  }
 ],
 "metadata": {
  "kernelspec": {
   "display_name": "Python 3",
   "language": "python",
   "name": "python3"
  },
  "language_info": {
   "codemirror_mode": {
    "name": "ipython",
    "version": 3
   },
   "file_extension": ".py",
   "mimetype": "text/x-python",
   "name": "python",
   "nbconvert_exporter": "python",
   "pygments_lexer": "ipython3",
   "version": "3.5.5"
  }
 },
 "nbformat": 4,
 "nbformat_minor": 2
}
